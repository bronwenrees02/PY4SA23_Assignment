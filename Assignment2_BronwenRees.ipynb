{
 "cells": [
  {
   "cell_type": "markdown",
   "id": "c491416d-6dca-43d6-a660-5461471ebf38",
   "metadata": {},
   "source": [
    "# Lab Assignment 2 - Bronwen Rees\n",
    "## 200011560\n",
    "Repository URL: https://github.com/bronwenrees02/PY4SA23_Assignment.git"
   ]
  },
  {
   "cell_type": "markdown",
   "id": "21f31e2b-0529-4f7b-9476-a5423327f6f9",
   "metadata": {},
   "source": [
    "### Python Basics\n",
    "#### Task 1\n",
    "Creating an **if...else** statement that will test whether a number is divisible by 3"
   ]
  },
  {
   "cell_type": "code",
   "execution_count": 19,
   "id": "75b7f7c1-e053-4b35-9fa1-fecb99ed4380",
   "metadata": {},
   "outputs": [
    {
     "name": "stdin",
     "output_type": "stream",
     "text": [
      "What is your number? 4\n"
     ]
    },
    {
     "name": "stdout",
     "output_type": "stream",
     "text": [
      "Your number isn't divisible by 3\n"
     ]
    }
   ],
   "source": [
    "number = int(input('What is your number?')) # this asks for a number input\n",
    "if (number % 3) == 0: # the % is the remainder function\n",
    "    print(\"Your number is divisible by 3\") # this will print if remainder when divided by 3 is 0\n",
    "else:\n",
    "    print(\"Your number isn't divisible by 3\")"
   ]
  },
  {
   "cell_type": "markdown",
   "id": "18648db8-c1e9-487a-a557-8c8e2bfa88cf",
   "metadata": {},
   "source": [
    "#### Task 2\n",
    "Creating an **if...else** statement that will test whether a type of fruit, represented as a text string, is in a list of acceptable fruits"
   ]
  },
  {
   "cell_type": "code",
   "execution_count": 26,
   "id": "588eda45-19b5-4034-a864-efd7ccb63bd8",
   "metadata": {},
   "outputs": [
    {
     "name": "stdin",
     "output_type": "stream",
     "text": [
      "What is your chosen fruit? apple\n"
     ]
    },
    {
     "name": "stdout",
     "output_type": "stream",
     "text": [
      "Sorry, your fruit is not found in the list of acceptable fruits\n"
     ]
    }
   ],
   "source": [
    "my_fruit = str(input('What is your chosen fruit?')) #asks for a text tring input\n",
    "acceptable_fruits = [\"cherry\", \"nectarine\", \"kiwi\", \"mango\", \"passionfruit\", \"raspberry\"]\n",
    "# square brackets define the list\n",
    "if my_fruit in acceptable_fruits: #this searches for input in pre-defined list\n",
    "   print(\"Your fruit is acceptable\")\n",
    "else:\n",
    "    print(\"Sorry, your fruit is not found in the list of acceptable fruits\")"
   ]
  },
  {
   "cell_type": "markdown",
   "id": "bd1e48fd-e92c-402c-9303-651b256def82",
   "metadata": {},
   "source": [
    "#### Task 3\n",
    "Creating a **function** to calculate the distance between two coordinates using the haversine formula"
   ]
  },
  {
   "cell_type": "code",
   "execution_count": 32,
   "id": "4f5d3c42-94c6-4823-8d30-6ef5be23e07c",
   "metadata": {},
   "outputs": [
    {
     "name": "stdout",
     "output_type": "stream",
     "text": [
      "Result:  112.26585883383926\n",
      "Should be:  112.23 km\n"
     ]
    }
   ],
   "source": [
    "# creating a code that takes latitude and longitude as inputs and carries out the haversine equation\n",
    "from math import sin, cos, sqrt, atan2, radians\n",
    "\n",
    "# Approximate radius of earth in km\n",
    "# chnage comments\n",
    "# add own coordinates\n",
    "# change \"Should be: print result\"\n",
    "R = 6373.0\n",
    "\n",
    "lat1 = radians(52.221310) # this input gives the latitude and longitude of two points\n",
    "lon1 = radians(0.965240)\n",
    "lat2 = radians(51.456711)\n",
    "lon2 = radians(-0.101160)\n",
    "\n",
    "dlon = lon2 - lon1 #calculates difference in the two longitudes\n",
    "dlat = lat2 - lat1 #calculates difference in the two latitudes\n",
    "\n",
    "a = sin(dlat / 2)**2 + cos(lat1) * cos(lat2) * sin(dlon / 2)**2 #\n",
    "c = 2 * atan2(sqrt(a), sqrt(1 - a))\n",
    "\n",
    "distance = R * c\n",
    "\n",
    "print(\"Result: \", distance)\n",
    "print(\"Should be: \", 112.23, \"km\") #check and chnage this before running each time"
   ]
  },
  {
   "cell_type": "markdown",
   "id": "83a6fde6-0a8d-4401-9836-53f078a7d6ff",
   "metadata": {},
   "source": [
    "### Pandas and NumPy\n",
    "#### Using the portland_park_trees.csv\n",
    "#### Q1\n",
    "How many trees are of the Quercus or Acer genus?"
   ]
  },
  {
   "cell_type": "code",
   "execution_count": 28,
   "id": "c19dcb86-2960-496c-9ba1-7f24b99c06ad",
   "metadata": {},
   "outputs": [],
   "source": [
    "# First import pandas and numpy\n",
    "import pandas as pd\n",
    "import numpy as np\n",
    "# now import the csv file"
   ]
  },
  {
   "cell_type": "markdown",
   "id": "c9b93d5d-3568-486f-ac22-e057952f1bff",
   "metadata": {},
   "source": [
    "#### Q2\n",
    "How many trees are of the Quercus or Acer genus and have a DBH larger than 50 inches?"
   ]
  },
  {
   "cell_type": "markdown",
   "id": "3166eeba-5757-4d60-836d-e67cd1eca4df",
   "metadata": {},
   "source": [
    "#### Q3\n",
    "Which genus has the highest mean DBH of the following genera: Quercus, Acer, or Fraxinus?"
   ]
  },
  {
   "cell_type": "markdown",
   "id": "44fa9a4e-d354-4caf-9291-eb0910f35933",
   "metadata": {},
   "source": [
    "#### Using the world_cities.csv\n",
    "#### Q5\n"
   ]
  },
  {
   "cell_type": "markdown",
   "id": "79da2cfa-934b-4870-97d3-8e99110584f5",
   "metadata": {},
   "source": [
    "### Python data visualisation\n",
    "#### Using portland_park_trees.csv\n",
    "#### Graph 1\n",
    "Scatterplot of trees in Ulmus genus"
   ]
  },
  {
   "cell_type": "markdown",
   "id": "9201a024-33a9-4af4-a9e1-a631c0977230",
   "metadata": {},
   "source": [
    "#### Graph 2\n",
    "Scatterplot of trees in Ulmus genus, which tree species mapped to hue"
   ]
  },
  {
   "cell_type": "markdown",
   "id": "6a54529f-a9fc-4087-9f05-2d9d75483433",
   "metadata": {},
   "source": [
    "#### Graph 3\n",
    "Boxplot of DBH for just Ulmus genus differentiated by species"
   ]
  },
  {
   "cell_type": "markdown",
   "id": "091b3cd9-f798-42f2-9d91-e9c16ac137c2",
   "metadata": {},
   "source": [
    "#### Graph 4 \n",
    "Combination of graphs 1 and 3"
   ]
  }
 ],
 "metadata": {
  "kernelspec": {
   "display_name": "Python 3 (ipykernel)",
   "language": "python",
   "name": "python3"
  },
  "language_info": {
   "codemirror_mode": {
    "name": "ipython",
    "version": 3
   },
   "file_extension": ".py",
   "mimetype": "text/x-python",
   "name": "python",
   "nbconvert_exporter": "python",
   "pygments_lexer": "ipython3",
   "version": "3.10.9"
  }
 },
 "nbformat": 4,
 "nbformat_minor": 5
}
