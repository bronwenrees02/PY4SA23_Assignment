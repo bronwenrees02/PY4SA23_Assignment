{
 "cells": [
  {
   "cell_type": "markdown",
   "id": "c491416d-6dca-43d6-a660-5461471ebf38",
   "metadata": {},
   "source": [
    "# Lab Assignment 2 - Bronwen Rees\n",
    "## 200011560\n",
    "Repository URL: https://github.com/bronwenrees02/PY4SA23_Assignment.git"
   ]
  },
  {
   "cell_type": "markdown",
   "id": "21f31e2b-0529-4f7b-9476-a5423327f6f9",
   "metadata": {},
   "source": [
    "### Python Basics\n",
    "#### Task 1\n",
    "Creating an **if...else** statement that will test whether a number is divisible by 3"
   ]
  },
  {
   "cell_type": "code",
   "execution_count": 1,
   "id": "75b7f7c1-e053-4b35-9fa1-fecb99ed4380",
   "metadata": {},
   "outputs": [
    {
     "name": "stdin",
     "output_type": "stream",
     "text": [
      "What is your number? 7\n"
     ]
    },
    {
     "name": "stdout",
     "output_type": "stream",
     "text": [
      "Your number isn't divisible by 3\n"
     ]
    }
   ],
   "source": [
    "number = int(input('What is your number?')) # this asks for a number input\n",
    "if (number % 3) == 0: # the % is the remainder function\n",
    "    print(\"Your number is divisible by 3\") # this will print if remainder when divided by 3 is 0\n",
    "else:\n",
    "    print(\"Your number isn't divisible by 3\")"
   ]
  },
  {
   "cell_type": "markdown",
   "id": "18648db8-c1e9-487a-a557-8c8e2bfa88cf",
   "metadata": {},
   "source": [
    "#### Task 2\n",
    "Creating an **if...else** statement that will test whether a type of fruit, represented as a text string, is in a list of acceptable fruits"
   ]
  },
  {
   "cell_type": "code",
   "execution_count": 2,
   "id": "588eda45-19b5-4034-a864-efd7ccb63bd8",
   "metadata": {},
   "outputs": [
    {
     "name": "stdin",
     "output_type": "stream",
     "text": [
      "What is your chosen fruit? hyacinth\n"
     ]
    },
    {
     "name": "stdout",
     "output_type": "stream",
     "text": [
      "Sorry, your fruit is not found in the list of acceptable fruits\n"
     ]
    }
   ],
   "source": [
    "my_fruit = str(input('What is your chosen fruit?')) #asks for a text tring input\n",
    "acceptable_fruits = [\"cherry\", \"nectarine\", \"kiwi\", \"mango\", \"passionfruit\", \"raspberry\"]\n",
    "# square brackets define the list\n",
    "if my_fruit in acceptable_fruits: #this searches for input in pre-defined list\n",
    "   print(\"Your fruit is acceptable\")\n",
    "else:\n",
    "    print(\"Sorry, your fruit is not found in the list of acceptable fruits\")"
   ]
  },
  {
   "cell_type": "markdown",
   "id": "bd1e48fd-e92c-402c-9303-651b256def82",
   "metadata": {},
   "source": [
    "#### Task 3\n",
    "Creating a **function** to calculate the distance between two coordinates using the haversine formula"
   ]
  },
  {
   "cell_type": "code",
   "execution_count": 3,
   "id": "4f5d3c42-94c6-4823-8d30-6ef5be23e07c",
   "metadata": {},
   "outputs": [
    {
     "name": "stdout",
     "output_type": "stream",
     "text": [
      "Result:  112.26585883383926\n",
      "Should be:  112.23 km\n"
     ]
    }
   ],
   "source": [
    "# creating a code that takes latitude and longitude as inputs and carries out the haversine equation\n",
    "from math import sin, cos, sqrt, atan2, radians\n",
    "\n",
    "# Approximate radius of earth in km\n",
    "# chnage comments\n",
    "# add own coordinates\n",
    "# change \"Should be: print result\"\n",
    "R = 6373.0\n",
    "\n",
    "lat1 = radians(52.221310) # this input gives the latitude and longitude of two points\n",
    "lon1 = radians(0.965240)\n",
    "lat2 = radians(51.456711)\n",
    "lon2 = radians(-0.101160)\n",
    "\n",
    "dlon = lon2 - lon1 #calculates difference in the two longitudes\n",
    "dlat = lat2 - lat1 #calculates difference in the two latitudes\n",
    "\n",
    "a = sin(dlat / 2)**2 + cos(lat1) * cos(lat2) * sin(dlon / 2)**2 #this is the haversine formula\n",
    "c = 2 * atan2(sqrt(a), sqrt(1 - a)) #this is second part and uses entered lan and lon values as inputs\n",
    "\n",
    "distance = R * c\n",
    "\n",
    "print(\"Result: \", distance)\n",
    "print(\"Should be: \", 112.23, \"km\") #change this before running, dependant on chosen points"
   ]
  },
  {
   "cell_type": "markdown",
   "id": "83a6fde6-0a8d-4401-9836-53f078a7d6ff",
   "metadata": {},
   "source": [
    "### Pandas and NumPy\n",
    "#### Using the portland_park_trees.csv"
   ]
  },
  {
   "cell_type": "code",
   "execution_count": 5,
   "id": "7b3548cd-46a6-4bea-bb48-82d623b790ca",
   "metadata": {},
   "outputs": [
    {
     "data": {
      "text/html": [
       "<div>\n",
       "<style scoped>\n",
       "    .dataframe tbody tr th:only-of-type {\n",
       "        vertical-align: middle;\n",
       "    }\n",
       "\n",
       "    .dataframe tbody tr th {\n",
       "        vertical-align: top;\n",
       "    }\n",
       "\n",
       "    .dataframe thead th {\n",
       "        text-align: right;\n",
       "    }\n",
       "</style>\n",
       "<table border=\"1\" class=\"dataframe\">\n",
       "  <thead>\n",
       "    <tr style=\"text-align: right;\">\n",
       "      <th></th>\n",
       "      <th>fid</th>\n",
       "      <th>OBJECTID</th>\n",
       "      <th>Inventory_</th>\n",
       "      <th>Species</th>\n",
       "      <th>DBH</th>\n",
       "      <th>Condition</th>\n",
       "      <th>TreeHeight</th>\n",
       "      <th>CrownWidth</th>\n",
       "      <th>CrownWid_1</th>\n",
       "      <th>CollectedB</th>\n",
       "      <th>...</th>\n",
       "      <th>Genus</th>\n",
       "      <th>Common_nam</th>\n",
       "      <th>Genus_spec</th>\n",
       "      <th>Functional</th>\n",
       "      <th>Size</th>\n",
       "      <th>Native</th>\n",
       "      <th>Edible</th>\n",
       "      <th>Nuisance</th>\n",
       "      <th>Origin</th>\n",
       "      <th>Species_fa</th>\n",
       "    </tr>\n",
       "  </thead>\n",
       "  <tbody>\n",
       "    <tr>\n",
       "      <th>0</th>\n",
       "      <td>1</td>\n",
       "      <td>426</td>\n",
       "      <td>2017/05/09</td>\n",
       "      <td>PSME</td>\n",
       "      <td>37.4</td>\n",
       "      <td>Fair</td>\n",
       "      <td>105.0</td>\n",
       "      <td>44.0</td>\n",
       "      <td>57.0</td>\n",
       "      <td>staff</td>\n",
       "      <td>...</td>\n",
       "      <td>Pseudotsuga</td>\n",
       "      <td>Douglas-fir</td>\n",
       "      <td>Pseudotsuga menziesii</td>\n",
       "      <td>CE</td>\n",
       "      <td>L</td>\n",
       "      <td>Yes</td>\n",
       "      <td>NaN</td>\n",
       "      <td>NaN</td>\n",
       "      <td>North America - from British Columbia south to...</td>\n",
       "      <td>Bracts on cones look like a mouse's feet and t...</td>\n",
       "    </tr>\n",
       "    <tr>\n",
       "      <th>1</th>\n",
       "      <td>2</td>\n",
       "      <td>427</td>\n",
       "      <td>2017/05/09</td>\n",
       "      <td>PSME</td>\n",
       "      <td>32.5</td>\n",
       "      <td>Fair</td>\n",
       "      <td>94.0</td>\n",
       "      <td>49.0</td>\n",
       "      <td>45.0</td>\n",
       "      <td>staff</td>\n",
       "      <td>...</td>\n",
       "      <td>Pseudotsuga</td>\n",
       "      <td>Douglas-fir</td>\n",
       "      <td>Pseudotsuga menziesii</td>\n",
       "      <td>CE</td>\n",
       "      <td>L</td>\n",
       "      <td>Yes</td>\n",
       "      <td>NaN</td>\n",
       "      <td>NaN</td>\n",
       "      <td>North America - from British Columbia south to...</td>\n",
       "      <td>Bracts on cones look like a mouse's feet and t...</td>\n",
       "    </tr>\n",
       "    <tr>\n",
       "      <th>2</th>\n",
       "      <td>3</td>\n",
       "      <td>428</td>\n",
       "      <td>2017/05/09</td>\n",
       "      <td>CRLA</td>\n",
       "      <td>9.7</td>\n",
       "      <td>Fair</td>\n",
       "      <td>23.0</td>\n",
       "      <td>28.0</td>\n",
       "      <td>27.0</td>\n",
       "      <td>staff</td>\n",
       "      <td>...</td>\n",
       "      <td>Crataegus</td>\n",
       "      <td>Lavalle hawthorn</td>\n",
       "      <td>Crataegus x lavalleei</td>\n",
       "      <td>BD</td>\n",
       "      <td>S</td>\n",
       "      <td>No</td>\n",
       "      <td>NaN</td>\n",
       "      <td>NaN</td>\n",
       "      <td>North America - a hybrid between a Mexican and...</td>\n",
       "      <td>Like most hawthorns, the tree has stout thorns...</td>\n",
       "    </tr>\n",
       "    <tr>\n",
       "      <th>3</th>\n",
       "      <td>4</td>\n",
       "      <td>429</td>\n",
       "      <td>2017/05/09</td>\n",
       "      <td>QURU</td>\n",
       "      <td>10.3</td>\n",
       "      <td>Poor</td>\n",
       "      <td>28.0</td>\n",
       "      <td>38.0</td>\n",
       "      <td>31.0</td>\n",
       "      <td>staff</td>\n",
       "      <td>...</td>\n",
       "      <td>Quercus</td>\n",
       "      <td>northern red oak</td>\n",
       "      <td>Quercus rubra</td>\n",
       "      <td>BD</td>\n",
       "      <td>L</td>\n",
       "      <td>No</td>\n",
       "      <td>NaN</td>\n",
       "      <td>NaN</td>\n",
       "      <td>North America - eastern Canada and eastern USA...</td>\n",
       "      <td>Acorns take two years to mature and are an imp...</td>\n",
       "    </tr>\n",
       "    <tr>\n",
       "      <th>4</th>\n",
       "      <td>5</td>\n",
       "      <td>430</td>\n",
       "      <td>2017/05/09</td>\n",
       "      <td>PSME</td>\n",
       "      <td>33.2</td>\n",
       "      <td>Fair</td>\n",
       "      <td>102.0</td>\n",
       "      <td>43.0</td>\n",
       "      <td>44.0</td>\n",
       "      <td>staff</td>\n",
       "      <td>...</td>\n",
       "      <td>Pseudotsuga</td>\n",
       "      <td>Douglas-fir</td>\n",
       "      <td>Pseudotsuga menziesii</td>\n",
       "      <td>CE</td>\n",
       "      <td>L</td>\n",
       "      <td>Yes</td>\n",
       "      <td>NaN</td>\n",
       "      <td>NaN</td>\n",
       "      <td>North America - from British Columbia south to...</td>\n",
       "      <td>Bracts on cones look like a mouse's feet and t...</td>\n",
       "    </tr>\n",
       "    <tr>\n",
       "      <th>...</th>\n",
       "      <td>...</td>\n",
       "      <td>...</td>\n",
       "      <td>...</td>\n",
       "      <td>...</td>\n",
       "      <td>...</td>\n",
       "      <td>...</td>\n",
       "      <td>...</td>\n",
       "      <td>...</td>\n",
       "      <td>...</td>\n",
       "      <td>...</td>\n",
       "      <td>...</td>\n",
       "      <td>...</td>\n",
       "      <td>...</td>\n",
       "      <td>...</td>\n",
       "      <td>...</td>\n",
       "      <td>...</td>\n",
       "      <td>...</td>\n",
       "      <td>...</td>\n",
       "      <td>...</td>\n",
       "      <td>...</td>\n",
       "      <td>...</td>\n",
       "    </tr>\n",
       "    <tr>\n",
       "      <th>25529</th>\n",
       "      <td>25530</td>\n",
       "      <td>726046</td>\n",
       "      <td>2018/08/16</td>\n",
       "      <td>QURU</td>\n",
       "      <td>31.6</td>\n",
       "      <td>Fair</td>\n",
       "      <td>74.0</td>\n",
       "      <td>50.0</td>\n",
       "      <td>46.0</td>\n",
       "      <td>volunteer</td>\n",
       "      <td>...</td>\n",
       "      <td>Quercus</td>\n",
       "      <td>northern red oak</td>\n",
       "      <td>Quercus rubra</td>\n",
       "      <td>BD</td>\n",
       "      <td>L</td>\n",
       "      <td>No</td>\n",
       "      <td>NaN</td>\n",
       "      <td>NaN</td>\n",
       "      <td>North America - eastern Canada and eastern USA...</td>\n",
       "      <td>Acorns take two years to mature and are an imp...</td>\n",
       "    </tr>\n",
       "    <tr>\n",
       "      <th>25530</th>\n",
       "      <td>25531</td>\n",
       "      <td>726443</td>\n",
       "      <td>2019/10/11</td>\n",
       "      <td>PSME</td>\n",
       "      <td>0.4</td>\n",
       "      <td>Good</td>\n",
       "      <td>8.0</td>\n",
       "      <td>6.0</td>\n",
       "      <td>6.0</td>\n",
       "      <td>staff</td>\n",
       "      <td>...</td>\n",
       "      <td>Pseudotsuga</td>\n",
       "      <td>Douglas-fir</td>\n",
       "      <td>Pseudotsuga menziesii</td>\n",
       "      <td>CE</td>\n",
       "      <td>L</td>\n",
       "      <td>Yes</td>\n",
       "      <td>NaN</td>\n",
       "      <td>NaN</td>\n",
       "      <td>North America - from British Columbia south to...</td>\n",
       "      <td>Bracts on cones look like a mouse's feet and t...</td>\n",
       "    </tr>\n",
       "    <tr>\n",
       "      <th>25531</th>\n",
       "      <td>25532</td>\n",
       "      <td>726444</td>\n",
       "      <td>2019/10/11</td>\n",
       "      <td>MEGL</td>\n",
       "      <td>26.3</td>\n",
       "      <td>Fair</td>\n",
       "      <td>79.0</td>\n",
       "      <td>30.0</td>\n",
       "      <td>40.0</td>\n",
       "      <td>staff</td>\n",
       "      <td>...</td>\n",
       "      <td>Metasequoia</td>\n",
       "      <td>dawn redwood</td>\n",
       "      <td>Metasequoia glyptostroboides</td>\n",
       "      <td>CD</td>\n",
       "      <td>L</td>\n",
       "      <td>No</td>\n",
       "      <td>NaN</td>\n",
       "      <td>NaN</td>\n",
       "      <td>Asia - central China</td>\n",
       "      <td>A deciduous conifer, dawn redwood is Oregon's ...</td>\n",
       "    </tr>\n",
       "    <tr>\n",
       "      <th>25532</th>\n",
       "      <td>25533</td>\n",
       "      <td>726445</td>\n",
       "      <td>2019/10/11</td>\n",
       "      <td>PCSI</td>\n",
       "      <td>8.8</td>\n",
       "      <td>Fair</td>\n",
       "      <td>43.0</td>\n",
       "      <td>20.0</td>\n",
       "      <td>20.0</td>\n",
       "      <td>staff</td>\n",
       "      <td>...</td>\n",
       "      <td>Picea</td>\n",
       "      <td>Sitka spruce</td>\n",
       "      <td>Picea sitchensis</td>\n",
       "      <td>CE</td>\n",
       "      <td>L</td>\n",
       "      <td>Yes</td>\n",
       "      <td>NaN</td>\n",
       "      <td>NaN</td>\n",
       "      <td>North America - Alaska south to British Columb...</td>\n",
       "      <td>Green, 1\" long, typically flat needles are the...</td>\n",
       "    </tr>\n",
       "    <tr>\n",
       "      <th>25533</th>\n",
       "      <td>25534</td>\n",
       "      <td>726446</td>\n",
       "      <td>2019/10/11</td>\n",
       "      <td>COKO</td>\n",
       "      <td>2.0</td>\n",
       "      <td>Good</td>\n",
       "      <td>18.0</td>\n",
       "      <td>13.0</td>\n",
       "      <td>13.0</td>\n",
       "      <td>staff</td>\n",
       "      <td>...</td>\n",
       "      <td>Cornus</td>\n",
       "      <td>kousa dogwood</td>\n",
       "      <td>Cornus kousa</td>\n",
       "      <td>BD</td>\n",
       "      <td>S</td>\n",
       "      <td>No</td>\n",
       "      <td>NaN</td>\n",
       "      <td>NaN</td>\n",
       "      <td>Asia - Japan, Korea</td>\n",
       "      <td>A 20-30' tree with showy white flower bracts t...</td>\n",
       "    </tr>\n",
       "  </tbody>\n",
       "</table>\n",
       "<p>25534 rows × 40 columns</p>\n",
       "</div>"
      ],
      "text/plain": [
       "         fid  OBJECTID  Inventory_ Species   DBH Condition  TreeHeight  \\\n",
       "0          1       426  2017/05/09    PSME  37.4      Fair       105.0   \n",
       "1          2       427  2017/05/09    PSME  32.5      Fair        94.0   \n",
       "2          3       428  2017/05/09    CRLA   9.7      Fair        23.0   \n",
       "3          4       429  2017/05/09    QURU  10.3      Poor        28.0   \n",
       "4          5       430  2017/05/09    PSME  33.2      Fair       102.0   \n",
       "...      ...       ...         ...     ...   ...       ...         ...   \n",
       "25529  25530    726046  2018/08/16    QURU  31.6      Fair        74.0   \n",
       "25530  25531    726443  2019/10/11    PSME   0.4      Good         8.0   \n",
       "25531  25532    726444  2019/10/11    MEGL  26.3      Fair        79.0   \n",
       "25532  25533    726445  2019/10/11    PCSI   8.8      Fair        43.0   \n",
       "25533  25534    726446  2019/10/11    COKO   2.0      Good        18.0   \n",
       "\n",
       "       CrownWidth  CrownWid_1 CollectedB  ...        Genus        Common_nam  \\\n",
       "0            44.0        57.0      staff  ...  Pseudotsuga       Douglas-fir   \n",
       "1            49.0        45.0      staff  ...  Pseudotsuga       Douglas-fir   \n",
       "2            28.0        27.0      staff  ...    Crataegus  Lavalle hawthorn   \n",
       "3            38.0        31.0      staff  ...      Quercus  northern red oak   \n",
       "4            43.0        44.0      staff  ...  Pseudotsuga       Douglas-fir   \n",
       "...           ...         ...        ...  ...          ...               ...   \n",
       "25529        50.0        46.0  volunteer  ...      Quercus  northern red oak   \n",
       "25530         6.0         6.0      staff  ...  Pseudotsuga       Douglas-fir   \n",
       "25531        30.0        40.0      staff  ...  Metasequoia      dawn redwood   \n",
       "25532        20.0        20.0      staff  ...        Picea      Sitka spruce   \n",
       "25533        13.0        13.0      staff  ...       Cornus     kousa dogwood   \n",
       "\n",
       "                         Genus_spec Functional Size Native Edible Nuisance  \\\n",
       "0             Pseudotsuga menziesii         CE    L    Yes    NaN      NaN   \n",
       "1             Pseudotsuga menziesii         CE    L    Yes    NaN      NaN   \n",
       "2             Crataegus x lavalleei         BD    S     No    NaN      NaN   \n",
       "3                     Quercus rubra         BD    L     No    NaN      NaN   \n",
       "4             Pseudotsuga menziesii         CE    L    Yes    NaN      NaN   \n",
       "...                             ...        ...  ...    ...    ...      ...   \n",
       "25529                 Quercus rubra         BD    L     No    NaN      NaN   \n",
       "25530         Pseudotsuga menziesii         CE    L    Yes    NaN      NaN   \n",
       "25531  Metasequoia glyptostroboides         CD    L     No    NaN      NaN   \n",
       "25532              Picea sitchensis         CE    L    Yes    NaN      NaN   \n",
       "25533                  Cornus kousa         BD    S     No    NaN      NaN   \n",
       "\n",
       "                                                  Origin  \\\n",
       "0      North America - from British Columbia south to...   \n",
       "1      North America - from British Columbia south to...   \n",
       "2      North America - a hybrid between a Mexican and...   \n",
       "3      North America - eastern Canada and eastern USA...   \n",
       "4      North America - from British Columbia south to...   \n",
       "...                                                  ...   \n",
       "25529  North America - eastern Canada and eastern USA...   \n",
       "25530  North America - from British Columbia south to...   \n",
       "25531                               Asia - central China   \n",
       "25532  North America - Alaska south to British Columb...   \n",
       "25533                                Asia - Japan, Korea   \n",
       "\n",
       "                                              Species_fa  \n",
       "0      Bracts on cones look like a mouse's feet and t...  \n",
       "1      Bracts on cones look like a mouse's feet and t...  \n",
       "2      Like most hawthorns, the tree has stout thorns...  \n",
       "3      Acorns take two years to mature and are an imp...  \n",
       "4      Bracts on cones look like a mouse's feet and t...  \n",
       "...                                                  ...  \n",
       "25529  Acorns take two years to mature and are an imp...  \n",
       "25530  Bracts on cones look like a mouse's feet and t...  \n",
       "25531  A deciduous conifer, dawn redwood is Oregon's ...  \n",
       "25532  Green, 1\" long, typically flat needles are the...  \n",
       "25533  A 20-30' tree with showy white flower bracts t...  \n",
       "\n",
       "[25534 rows x 40 columns]"
      ]
     },
     "execution_count": 5,
     "metadata": {},
     "output_type": "execute_result"
    }
   ],
   "source": [
    "# First import pandas and numpy\n",
    "import pandas as pd\n",
    "import numpy as np\n",
    "# now import the csv file\n",
    "portland_tree_data = pd.read_csv(\"Assignment 2 Data/portland_park_trees.csv\")\n",
    "portland_tree_data"
   ]
  },
  {
   "cell_type": "markdown",
   "id": "6a3d5755-e7dd-4a48-a829-2dc73e6883fc",
   "metadata": {},
   "source": [
    "#### Q1\n",
    "How many trees are of the Quercus or Acer genus?"
   ]
  },
  {
   "cell_type": "code",
   "execution_count": 6,
   "id": "89768b6d-a97e-4554-a5b1-216a9029088f",
   "metadata": {},
   "outputs": [
    {
     "name": "stdout",
     "output_type": "stream",
     "text": [
      "(5675, 40)\n"
     ]
    }
   ],
   "source": [
    "Genus = portland_tree_data.query('Genus==\"Quercus\" or Genus==\"Acer\"')\n",
    "print(Genus.shape) #the shape functions gives the dimensions of the data frame\n",
    "# the first number in the printed result is the answer"
   ]
  },
  {
   "cell_type": "markdown",
   "id": "c9b93d5d-3568-486f-ac22-e057952f1bff",
   "metadata": {},
   "source": [
    "#### Q2\n",
    "How many trees are of the Quercus or Acer genus and have a DBH larger than 50 inches?"
   ]
  },
  {
   "cell_type": "code",
   "execution_count": 7,
   "id": "548fa9aa-56c9-4099-b2bd-0d31ac87da5b",
   "metadata": {},
   "outputs": [
    {
     "name": "stdout",
     "output_type": "stream",
     "text": [
      "(124, 40)\n"
     ]
    }
   ],
   "source": [
    "Genus_dbh50 = Genus.query('DBH > 50')\n",
    "print(Genus_dbh50.shape)"
   ]
  },
  {
   "cell_type": "markdown",
   "id": "3166eeba-5757-4d60-836d-e67cd1eca4df",
   "metadata": {},
   "source": [
    "#### Q3\n",
    "Which genus has the highest mean DBH of the following genera: Quercus, Acer, or Fraxinus?"
   ]
  },
  {
   "cell_type": "code",
   "execution_count": 8,
   "id": "485d0b68-a526-496e-8a1f-8f5e77fbd71c",
   "metadata": {},
   "outputs": [],
   "source": [
    "Quercus = portland_tree_data[portland_tree_data[\"Genus\"]==\"Quercus\"]\n",
    "Acer = portland_tree_data[portland_tree_data[\"Genus\"]==\"Acer\"]\n",
    "Fraxinus = portland_tree_data[portland_tree_data[\"Genus\"]==\"Fraxinus\"]\n",
    "# this creates subsets of data of only the specified Genus"
   ]
  },
  {
   "cell_type": "code",
   "execution_count": 9,
   "id": "0c60d2d0-7473-41d1-bc9d-17ac42e14b3c",
   "metadata": {},
   "outputs": [
    {
     "data": {
      "text/plain": [
       "23.56823839157492"
      ]
     },
     "execution_count": 9,
     "metadata": {},
     "output_type": "execute_result"
    }
   ],
   "source": [
    "# i will now calculate mean of DBH within each Genus subset\n",
    "Quercus[\"DBH\"].mean()"
   ]
  },
  {
   "cell_type": "code",
   "execution_count": 10,
   "id": "07e5b283-2ff6-4591-8bd0-a81721239264",
   "metadata": {},
   "outputs": [
    {
     "data": {
      "text/plain": [
       "18.419085331846066"
      ]
     },
     "execution_count": 10,
     "metadata": {},
     "output_type": "execute_result"
    }
   ],
   "source": [
    "Acer[\"DBH\"].mean()"
   ]
  },
  {
   "cell_type": "code",
   "execution_count": 11,
   "id": "f8cde95b-0cb7-47a3-9055-91d9d51e6131",
   "metadata": {},
   "outputs": [
    {
     "data": {
      "text/plain": [
       "11.033609693877551"
      ]
     },
     "execution_count": 11,
     "metadata": {},
     "output_type": "execute_result"
    }
   ],
   "source": [
    "Fraxinus[\"DBH\"].mean()"
   ]
  },
  {
   "cell_type": "markdown",
   "id": "44fa9a4e-d354-4caf-9291-eb0910f35933",
   "metadata": {},
   "source": [
    "#### Using the world_cities.csv\n",
    "#### Q5\n",
    "• Calculate a new column named \"pop_M\" (population in millions), by transforming the \n",
    "\"pop\" (population) column.\n",
    "\n",
    "• Remove the original \"pop\" column.\n",
    "\n",
    "• Choose/subset a city that starts with the same letter as your first name (for example, \n",
    "\"Mexico City\" if your first name is Michael).\n",
    "\n",
    "• Subset the five biggest (i.e., largest population sizes) cities from the country where your selected city is.\n",
    "\n",
    "• Print the result."
   ]
  },
  {
   "cell_type": "code",
   "execution_count": 12,
   "id": "fa7c2b06-a4bb-4956-b7e0-3ee3a15d5a0e",
   "metadata": {},
   "outputs": [
    {
     "name": "stdout",
     "output_type": "stream",
     "text": [
      "                     city       country     pop    lat    lon  capital\n",
      "0      'Abasan al-Jadidah     Palestine    5629  31.31  34.34        0\n",
      "1      'Abasan al-Kabirah     Palestine   18999  31.32  34.35        0\n",
      "2            'Abdul Hakim      Pakistan   47788  30.55  72.11        0\n",
      "3      'Abdullah-as-Salam        Kuwait   21817  29.36  47.98        0\n",
      "4                   'Abud     Palestine    2456  32.03  35.07        0\n",
      "...                   ...           ...     ...    ...    ...      ...\n",
      "43640           az-Zubayr          Iraq  124611  30.39  47.71        0\n",
      "43641            az-Zulfi  Saudi Arabia   54070  26.30  44.80        0\n",
      "43642       az-Zuwaytinah         Libya   21984  30.95  20.12        0\n",
      "43643        s-Gravenhage   Netherlands  479525  52.07   4.30        0\n",
      "43644     s-Hertogenbosch   Netherlands  135529  51.68   5.30        0\n",
      "\n",
      "[43645 rows x 6 columns]\n"
     ]
    }
   ],
   "source": [
    "# importing the data set\n",
    "cities = pd.read_csv(\"Assignment 2 Data/world_cities.csv\")\n",
    "print(cities)"
   ]
  },
  {
   "cell_type": "code",
   "execution_count": 13,
   "id": "c2bf4972-bedc-4b20-873c-d0157645b385",
   "metadata": {},
   "outputs": [],
   "source": [
    "# New column for population by millions\n",
    "cities['pop_M'] = cities['pop'] / 1000000"
   ]
  },
  {
   "cell_type": "code",
   "execution_count": 14,
   "id": "fcfd84d8-3641-440a-a8fa-89bb0f7a86a9",
   "metadata": {},
   "outputs": [],
   "source": [
    "# removing original pop column\n",
    "del cities['pop']"
   ]
  },
  {
   "cell_type": "code",
   "execution_count": 15,
   "id": "3b74f430-1ce2-4997-85dc-3a609607aa11",
   "metadata": {},
   "outputs": [
    {
     "name": "stdout",
     "output_type": "stream",
     "text": [
      "         city   country    lat    lon  capital     pop_M\n",
      "3225  Bangkok  Thailand  13.73  100.5        1  4.935988\n"
     ]
    }
   ],
   "source": [
    "# My name begins with B\n",
    "# Creating a subset of a city that begins with B\n",
    "# My chosen city is Bangkok\n",
    "Bangkok_df = cities[cities[\"city\"]==\"Bangkok\"]\n",
    "print(Bangkok_df)"
   ]
  },
  {
   "cell_type": "code",
   "execution_count": 16,
   "id": "d615d327-d74f-4d67-8593-2e670255fda3",
   "metadata": {},
   "outputs": [
    {
     "data": {
      "text/html": [
       "<div>\n",
       "<style scoped>\n",
       "    .dataframe tbody tr th:only-of-type {\n",
       "        vertical-align: middle;\n",
       "    }\n",
       "\n",
       "    .dataframe tbody tr th {\n",
       "        vertical-align: top;\n",
       "    }\n",
       "\n",
       "    .dataframe thead th {\n",
       "        text-align: right;\n",
       "    }\n",
       "</style>\n",
       "<table border=\"1\" class=\"dataframe\">\n",
       "  <thead>\n",
       "    <tr style=\"text-align: right;\">\n",
       "      <th></th>\n",
       "      <th>city</th>\n",
       "      <th>country</th>\n",
       "      <th>lat</th>\n",
       "      <th>lon</th>\n",
       "      <th>capital</th>\n",
       "      <th>pop_M</th>\n",
       "    </tr>\n",
       "  </thead>\n",
       "  <tbody>\n",
       "    <tr>\n",
       "      <th>3225</th>\n",
       "      <td>Bangkok</td>\n",
       "      <td>Thailand</td>\n",
       "      <td>13.73</td>\n",
       "      <td>100.50</td>\n",
       "      <td>1</td>\n",
       "      <td>4.935988</td>\n",
       "    </tr>\n",
       "    <tr>\n",
       "      <th>26259</th>\n",
       "      <td>Nonthaburi</td>\n",
       "      <td>Thailand</td>\n",
       "      <td>13.80</td>\n",
       "      <td>100.18</td>\n",
       "      <td>0</td>\n",
       "      <td>0.391245</td>\n",
       "    </tr>\n",
       "    <tr>\n",
       "      <th>32665</th>\n",
       "      <td>Samut Prakan</td>\n",
       "      <td>Thailand</td>\n",
       "      <td>13.61</td>\n",
       "      <td>100.61</td>\n",
       "      <td>0</td>\n",
       "      <td>0.390744</td>\n",
       "    </tr>\n",
       "    <tr>\n",
       "      <th>39376</th>\n",
       "      <td>Udon Thani</td>\n",
       "      <td>Thailand</td>\n",
       "      <td>17.41</td>\n",
       "      <td>102.79</td>\n",
       "      <td>0</td>\n",
       "      <td>0.251672</td>\n",
       "    </tr>\n",
       "    <tr>\n",
       "      <th>7585</th>\n",
       "      <td>Chon Buri</td>\n",
       "      <td>Thailand</td>\n",
       "      <td>13.40</td>\n",
       "      <td>101.00</td>\n",
       "      <td>0</td>\n",
       "      <td>0.224441</td>\n",
       "    </tr>\n",
       "  </tbody>\n",
       "</table>\n",
       "</div>"
      ],
      "text/plain": [
       "               city   country    lat     lon  capital     pop_M\n",
       "3225        Bangkok  Thailand  13.73  100.50        1  4.935988\n",
       "26259    Nonthaburi  Thailand  13.80  100.18        0  0.391245\n",
       "32665  Samut Prakan  Thailand  13.61  100.61        0  0.390744\n",
       "39376    Udon Thani  Thailand  17.41  102.79        0  0.251672\n",
       "7585      Chon Buri  Thailand  13.40  101.00        0  0.224441"
      ]
     },
     "execution_count": 16,
     "metadata": {},
     "output_type": "execute_result"
    }
   ],
   "source": [
    "# Subset of Thailand's 5 largest cities\n",
    "# first a Thailand subset must be created\n",
    "Thailand = cities[cities[\"country\"]==\"Thailand\"]\n",
    "Thailand_subset = Thailand.sort_values('pop_M', ascending=False).head(5)\n",
    "# the above function sorts the rows in the Thailand data set by their 'Pop_M' column value\n",
    "# by defining that 'ascending=False' the values are sorted highest to lowest\n",
    "# defining '.head(5)' in the subset only the highest 5 values are selected\n",
    "# the final data frame can now be printed\n",
    "Thailand_subset"
   ]
  },
  {
   "cell_type": "markdown",
   "id": "79da2cfa-934b-4870-97d3-8e99110584f5",
   "metadata": {},
   "source": [
    "### Python data visualisation\n",
    "#### Using portland_park_trees.csv"
   ]
  },
  {
   "cell_type": "code",
   "execution_count": 17,
   "id": "f57d0dba-519e-4c95-a0ca-1a89a7b20647",
   "metadata": {},
   "outputs": [],
   "source": [
    "# first necessary libraries must be imported\n",
    "# in this case matplotlib\n",
    "import matplotlib.pyplot as plt\n",
    "# the following code allows suitable plotting of results withing jupyter notebook\n",
    "%matplotlib inline"
   ]
  },
  {
   "cell_type": "code",
   "execution_count": 29,
   "id": "2753d603-0971-456b-a45d-4d8460e573fa",
   "metadata": {},
   "outputs": [
    {
     "data": {
      "text/html": [
       "<div>\n",
       "<style scoped>\n",
       "    .dataframe tbody tr th:only-of-type {\n",
       "        vertical-align: middle;\n",
       "    }\n",
       "\n",
       "    .dataframe tbody tr th {\n",
       "        vertical-align: top;\n",
       "    }\n",
       "\n",
       "    .dataframe thead th {\n",
       "        text-align: right;\n",
       "    }\n",
       "</style>\n",
       "<table border=\"1\" class=\"dataframe\">\n",
       "  <thead>\n",
       "    <tr style=\"text-align: right;\">\n",
       "      <th></th>\n",
       "      <th>fid</th>\n",
       "      <th>OBJECTID</th>\n",
       "      <th>Inventory_</th>\n",
       "      <th>Species</th>\n",
       "      <th>DBH</th>\n",
       "      <th>Condition</th>\n",
       "      <th>TreeHeight</th>\n",
       "      <th>CrownWidth</th>\n",
       "      <th>CrownWid_1</th>\n",
       "      <th>CollectedB</th>\n",
       "      <th>...</th>\n",
       "      <th>Genus</th>\n",
       "      <th>Common_nam</th>\n",
       "      <th>Genus_spec</th>\n",
       "      <th>Functional</th>\n",
       "      <th>Size</th>\n",
       "      <th>Native</th>\n",
       "      <th>Edible</th>\n",
       "      <th>Nuisance</th>\n",
       "      <th>Origin</th>\n",
       "      <th>Species_fa</th>\n",
       "    </tr>\n",
       "  </thead>\n",
       "  <tbody>\n",
       "    <tr>\n",
       "      <th>0</th>\n",
       "      <td>1</td>\n",
       "      <td>426</td>\n",
       "      <td>2017/05/09</td>\n",
       "      <td>PSME</td>\n",
       "      <td>37.4</td>\n",
       "      <td>Fair</td>\n",
       "      <td>105.0</td>\n",
       "      <td>44.0</td>\n",
       "      <td>57.0</td>\n",
       "      <td>staff</td>\n",
       "      <td>...</td>\n",
       "      <td>Pseudotsuga</td>\n",
       "      <td>Douglas-fir</td>\n",
       "      <td>Pseudotsuga menziesii</td>\n",
       "      <td>CE</td>\n",
       "      <td>L</td>\n",
       "      <td>Yes</td>\n",
       "      <td>NaN</td>\n",
       "      <td>NaN</td>\n",
       "      <td>North America - from British Columbia south to...</td>\n",
       "      <td>Bracts on cones look like a mouse's feet and t...</td>\n",
       "    </tr>\n",
       "    <tr>\n",
       "      <th>1</th>\n",
       "      <td>2</td>\n",
       "      <td>427</td>\n",
       "      <td>2017/05/09</td>\n",
       "      <td>PSME</td>\n",
       "      <td>32.5</td>\n",
       "      <td>Fair</td>\n",
       "      <td>94.0</td>\n",
       "      <td>49.0</td>\n",
       "      <td>45.0</td>\n",
       "      <td>staff</td>\n",
       "      <td>...</td>\n",
       "      <td>Pseudotsuga</td>\n",
       "      <td>Douglas-fir</td>\n",
       "      <td>Pseudotsuga menziesii</td>\n",
       "      <td>CE</td>\n",
       "      <td>L</td>\n",
       "      <td>Yes</td>\n",
       "      <td>NaN</td>\n",
       "      <td>NaN</td>\n",
       "      <td>North America - from British Columbia south to...</td>\n",
       "      <td>Bracts on cones look like a mouse's feet and t...</td>\n",
       "    </tr>\n",
       "    <tr>\n",
       "      <th>2</th>\n",
       "      <td>3</td>\n",
       "      <td>428</td>\n",
       "      <td>2017/05/09</td>\n",
       "      <td>CRLA</td>\n",
       "      <td>9.7</td>\n",
       "      <td>Fair</td>\n",
       "      <td>23.0</td>\n",
       "      <td>28.0</td>\n",
       "      <td>27.0</td>\n",
       "      <td>staff</td>\n",
       "      <td>...</td>\n",
       "      <td>Crataegus</td>\n",
       "      <td>Lavalle hawthorn</td>\n",
       "      <td>Crataegus x lavalleei</td>\n",
       "      <td>BD</td>\n",
       "      <td>S</td>\n",
       "      <td>No</td>\n",
       "      <td>NaN</td>\n",
       "      <td>NaN</td>\n",
       "      <td>North America - a hybrid between a Mexican and...</td>\n",
       "      <td>Like most hawthorns, the tree has stout thorns...</td>\n",
       "    </tr>\n",
       "    <tr>\n",
       "      <th>3</th>\n",
       "      <td>4</td>\n",
       "      <td>429</td>\n",
       "      <td>2017/05/09</td>\n",
       "      <td>QURU</td>\n",
       "      <td>10.3</td>\n",
       "      <td>Poor</td>\n",
       "      <td>28.0</td>\n",
       "      <td>38.0</td>\n",
       "      <td>31.0</td>\n",
       "      <td>staff</td>\n",
       "      <td>...</td>\n",
       "      <td>Quercus</td>\n",
       "      <td>northern red oak</td>\n",
       "      <td>Quercus rubra</td>\n",
       "      <td>BD</td>\n",
       "      <td>L</td>\n",
       "      <td>No</td>\n",
       "      <td>NaN</td>\n",
       "      <td>NaN</td>\n",
       "      <td>North America - eastern Canada and eastern USA...</td>\n",
       "      <td>Acorns take two years to mature and are an imp...</td>\n",
       "    </tr>\n",
       "    <tr>\n",
       "      <th>4</th>\n",
       "      <td>5</td>\n",
       "      <td>430</td>\n",
       "      <td>2017/05/09</td>\n",
       "      <td>PSME</td>\n",
       "      <td>33.2</td>\n",
       "      <td>Fair</td>\n",
       "      <td>102.0</td>\n",
       "      <td>43.0</td>\n",
       "      <td>44.0</td>\n",
       "      <td>staff</td>\n",
       "      <td>...</td>\n",
       "      <td>Pseudotsuga</td>\n",
       "      <td>Douglas-fir</td>\n",
       "      <td>Pseudotsuga menziesii</td>\n",
       "      <td>CE</td>\n",
       "      <td>L</td>\n",
       "      <td>Yes</td>\n",
       "      <td>NaN</td>\n",
       "      <td>NaN</td>\n",
       "      <td>North America - from British Columbia south to...</td>\n",
       "      <td>Bracts on cones look like a mouse's feet and t...</td>\n",
       "    </tr>\n",
       "    <tr>\n",
       "      <th>...</th>\n",
       "      <td>...</td>\n",
       "      <td>...</td>\n",
       "      <td>...</td>\n",
       "      <td>...</td>\n",
       "      <td>...</td>\n",
       "      <td>...</td>\n",
       "      <td>...</td>\n",
       "      <td>...</td>\n",
       "      <td>...</td>\n",
       "      <td>...</td>\n",
       "      <td>...</td>\n",
       "      <td>...</td>\n",
       "      <td>...</td>\n",
       "      <td>...</td>\n",
       "      <td>...</td>\n",
       "      <td>...</td>\n",
       "      <td>...</td>\n",
       "      <td>...</td>\n",
       "      <td>...</td>\n",
       "      <td>...</td>\n",
       "      <td>...</td>\n",
       "    </tr>\n",
       "    <tr>\n",
       "      <th>25529</th>\n",
       "      <td>25530</td>\n",
       "      <td>726046</td>\n",
       "      <td>2018/08/16</td>\n",
       "      <td>QURU</td>\n",
       "      <td>31.6</td>\n",
       "      <td>Fair</td>\n",
       "      <td>74.0</td>\n",
       "      <td>50.0</td>\n",
       "      <td>46.0</td>\n",
       "      <td>volunteer</td>\n",
       "      <td>...</td>\n",
       "      <td>Quercus</td>\n",
       "      <td>northern red oak</td>\n",
       "      <td>Quercus rubra</td>\n",
       "      <td>BD</td>\n",
       "      <td>L</td>\n",
       "      <td>No</td>\n",
       "      <td>NaN</td>\n",
       "      <td>NaN</td>\n",
       "      <td>North America - eastern Canada and eastern USA...</td>\n",
       "      <td>Acorns take two years to mature and are an imp...</td>\n",
       "    </tr>\n",
       "    <tr>\n",
       "      <th>25530</th>\n",
       "      <td>25531</td>\n",
       "      <td>726443</td>\n",
       "      <td>2019/10/11</td>\n",
       "      <td>PSME</td>\n",
       "      <td>0.4</td>\n",
       "      <td>Good</td>\n",
       "      <td>8.0</td>\n",
       "      <td>6.0</td>\n",
       "      <td>6.0</td>\n",
       "      <td>staff</td>\n",
       "      <td>...</td>\n",
       "      <td>Pseudotsuga</td>\n",
       "      <td>Douglas-fir</td>\n",
       "      <td>Pseudotsuga menziesii</td>\n",
       "      <td>CE</td>\n",
       "      <td>L</td>\n",
       "      <td>Yes</td>\n",
       "      <td>NaN</td>\n",
       "      <td>NaN</td>\n",
       "      <td>North America - from British Columbia south to...</td>\n",
       "      <td>Bracts on cones look like a mouse's feet and t...</td>\n",
       "    </tr>\n",
       "    <tr>\n",
       "      <th>25531</th>\n",
       "      <td>25532</td>\n",
       "      <td>726444</td>\n",
       "      <td>2019/10/11</td>\n",
       "      <td>MEGL</td>\n",
       "      <td>26.3</td>\n",
       "      <td>Fair</td>\n",
       "      <td>79.0</td>\n",
       "      <td>30.0</td>\n",
       "      <td>40.0</td>\n",
       "      <td>staff</td>\n",
       "      <td>...</td>\n",
       "      <td>Metasequoia</td>\n",
       "      <td>dawn redwood</td>\n",
       "      <td>Metasequoia glyptostroboides</td>\n",
       "      <td>CD</td>\n",
       "      <td>L</td>\n",
       "      <td>No</td>\n",
       "      <td>NaN</td>\n",
       "      <td>NaN</td>\n",
       "      <td>Asia - central China</td>\n",
       "      <td>A deciduous conifer, dawn redwood is Oregon's ...</td>\n",
       "    </tr>\n",
       "    <tr>\n",
       "      <th>25532</th>\n",
       "      <td>25533</td>\n",
       "      <td>726445</td>\n",
       "      <td>2019/10/11</td>\n",
       "      <td>PCSI</td>\n",
       "      <td>8.8</td>\n",
       "      <td>Fair</td>\n",
       "      <td>43.0</td>\n",
       "      <td>20.0</td>\n",
       "      <td>20.0</td>\n",
       "      <td>staff</td>\n",
       "      <td>...</td>\n",
       "      <td>Picea</td>\n",
       "      <td>Sitka spruce</td>\n",
       "      <td>Picea sitchensis</td>\n",
       "      <td>CE</td>\n",
       "      <td>L</td>\n",
       "      <td>Yes</td>\n",
       "      <td>NaN</td>\n",
       "      <td>NaN</td>\n",
       "      <td>North America - Alaska south to British Columb...</td>\n",
       "      <td>Green, 1\" long, typically flat needles are the...</td>\n",
       "    </tr>\n",
       "    <tr>\n",
       "      <th>25533</th>\n",
       "      <td>25534</td>\n",
       "      <td>726446</td>\n",
       "      <td>2019/10/11</td>\n",
       "      <td>COKO</td>\n",
       "      <td>2.0</td>\n",
       "      <td>Good</td>\n",
       "      <td>18.0</td>\n",
       "      <td>13.0</td>\n",
       "      <td>13.0</td>\n",
       "      <td>staff</td>\n",
       "      <td>...</td>\n",
       "      <td>Cornus</td>\n",
       "      <td>kousa dogwood</td>\n",
       "      <td>Cornus kousa</td>\n",
       "      <td>BD</td>\n",
       "      <td>S</td>\n",
       "      <td>No</td>\n",
       "      <td>NaN</td>\n",
       "      <td>NaN</td>\n",
       "      <td>Asia - Japan, Korea</td>\n",
       "      <td>A 20-30' tree with showy white flower bracts t...</td>\n",
       "    </tr>\n",
       "  </tbody>\n",
       "</table>\n",
       "<p>25534 rows × 40 columns</p>\n",
       "</div>"
      ],
      "text/plain": [
       "         fid  OBJECTID  Inventory_ Species   DBH Condition  TreeHeight  \\\n",
       "0          1       426  2017/05/09    PSME  37.4      Fair       105.0   \n",
       "1          2       427  2017/05/09    PSME  32.5      Fair        94.0   \n",
       "2          3       428  2017/05/09    CRLA   9.7      Fair        23.0   \n",
       "3          4       429  2017/05/09    QURU  10.3      Poor        28.0   \n",
       "4          5       430  2017/05/09    PSME  33.2      Fair       102.0   \n",
       "...      ...       ...         ...     ...   ...       ...         ...   \n",
       "25529  25530    726046  2018/08/16    QURU  31.6      Fair        74.0   \n",
       "25530  25531    726443  2019/10/11    PSME   0.4      Good         8.0   \n",
       "25531  25532    726444  2019/10/11    MEGL  26.3      Fair        79.0   \n",
       "25532  25533    726445  2019/10/11    PCSI   8.8      Fair        43.0   \n",
       "25533  25534    726446  2019/10/11    COKO   2.0      Good        18.0   \n",
       "\n",
       "       CrownWidth  CrownWid_1 CollectedB  ...        Genus        Common_nam  \\\n",
       "0            44.0        57.0      staff  ...  Pseudotsuga       Douglas-fir   \n",
       "1            49.0        45.0      staff  ...  Pseudotsuga       Douglas-fir   \n",
       "2            28.0        27.0      staff  ...    Crataegus  Lavalle hawthorn   \n",
       "3            38.0        31.0      staff  ...      Quercus  northern red oak   \n",
       "4            43.0        44.0      staff  ...  Pseudotsuga       Douglas-fir   \n",
       "...           ...         ...        ...  ...          ...               ...   \n",
       "25529        50.0        46.0  volunteer  ...      Quercus  northern red oak   \n",
       "25530         6.0         6.0      staff  ...  Pseudotsuga       Douglas-fir   \n",
       "25531        30.0        40.0      staff  ...  Metasequoia      dawn redwood   \n",
       "25532        20.0        20.0      staff  ...        Picea      Sitka spruce   \n",
       "25533        13.0        13.0      staff  ...       Cornus     kousa dogwood   \n",
       "\n",
       "                         Genus_spec Functional Size Native Edible Nuisance  \\\n",
       "0             Pseudotsuga menziesii         CE    L    Yes    NaN      NaN   \n",
       "1             Pseudotsuga menziesii         CE    L    Yes    NaN      NaN   \n",
       "2             Crataegus x lavalleei         BD    S     No    NaN      NaN   \n",
       "3                     Quercus rubra         BD    L     No    NaN      NaN   \n",
       "4             Pseudotsuga menziesii         CE    L    Yes    NaN      NaN   \n",
       "...                             ...        ...  ...    ...    ...      ...   \n",
       "25529                 Quercus rubra         BD    L     No    NaN      NaN   \n",
       "25530         Pseudotsuga menziesii         CE    L    Yes    NaN      NaN   \n",
       "25531  Metasequoia glyptostroboides         CD    L     No    NaN      NaN   \n",
       "25532              Picea sitchensis         CE    L    Yes    NaN      NaN   \n",
       "25533                  Cornus kousa         BD    S     No    NaN      NaN   \n",
       "\n",
       "                                                  Origin  \\\n",
       "0      North America - from British Columbia south to...   \n",
       "1      North America - from British Columbia south to...   \n",
       "2      North America - a hybrid between a Mexican and...   \n",
       "3      North America - eastern Canada and eastern USA...   \n",
       "4      North America - from British Columbia south to...   \n",
       "...                                                  ...   \n",
       "25529  North America - eastern Canada and eastern USA...   \n",
       "25530  North America - from British Columbia south to...   \n",
       "25531                               Asia - central China   \n",
       "25532  North America - Alaska south to British Columb...   \n",
       "25533                                Asia - Japan, Korea   \n",
       "\n",
       "                                              Species_fa  \n",
       "0      Bracts on cones look like a mouse's feet and t...  \n",
       "1      Bracts on cones look like a mouse's feet and t...  \n",
       "2      Like most hawthorns, the tree has stout thorns...  \n",
       "3      Acorns take two years to mature and are an imp...  \n",
       "4      Bracts on cones look like a mouse's feet and t...  \n",
       "...                                                  ...  \n",
       "25529  Acorns take two years to mature and are an imp...  \n",
       "25530  Bracts on cones look like a mouse's feet and t...  \n",
       "25531  A deciduous conifer, dawn redwood is Oregon's ...  \n",
       "25532  Green, 1\" long, typically flat needles are the...  \n",
       "25533  A 20-30' tree with showy white flower bracts t...  \n",
       "\n",
       "[25534 rows x 40 columns]"
      ]
     },
     "execution_count": 29,
     "metadata": {},
     "output_type": "execute_result"
    }
   ],
   "source": [
    "portland_tree_data"
   ]
  },
  {
   "cell_type": "markdown",
   "id": "79104424-1b18-4e69-bb21-d5bb2ad2cd87",
   "metadata": {},
   "source": [
    "#### Graph 1\n",
    "Scatterplot of trees in Ulmus genus\n",
    "x-axis: DBH\n",
    "y-ais: TreeHeight"
   ]
  },
  {
   "cell_type": "code",
   "execution_count": 35,
   "id": "33eee72b-93c4-484f-9675-310f869ffba2",
   "metadata": {},
   "outputs": [
    {
     "data": {
      "image/png": "[encoded data removed]",
      "text/plain": [
       "<Figure size 640x480 with 1 Axes>"
      ]
     },
     "metadata": {},
     "output_type": "display_data"
    }
   ],
   "source": [
    "# first an Ulmus subset must be created\n",
    "Ulmus = portland_tree_data[portland_tree_data[\"Genus\"]== \"Ulmus\"]\n",
    "Ulmus_plt = plt.scatter(Ulmus.DBH, Ulmus.TreeHeight)\n",
    "plt.show(Ulmus_plt)"
   ]
  },
  {
   "cell_type": "code",
   "execution_count": 19,
   "id": "59e96d27-6af8-4bd3-86ab-1c6ff8cf9ee5",
   "metadata": {},
   "outputs": [],
   "source": [
    "import seaborn as sns"
   ]
  },
  {
   "cell_type": "markdown",
   "id": "9201a024-33a9-4af4-a9e1-a631c0977230",
   "metadata": {},
   "source": [
    "#### Graph 2\n",
    "Scatterplot of trees in Ulmus genus, which tree species mapped to hue"
   ]
  },
  {
   "cell_type": "code",
   "execution_count": 28,
   "id": "e2125e0e-0dec-498e-b435-5bd5da230756",
   "metadata": {},
   "outputs": [
    {
     "data": {
      "text/plain": [
       "<seaborn.axisgrid.FacetGrid at 0x1a0764d0ac0>"
      ]
     },
     "execution_count": 28,
     "metadata": {},
     "output_type": "execute_result"
    },
    {
     "data": {
      "image/png": "[encoded data removed]",
      "text/plain": [
       "<Figure size 754.625x500 with 1 Axes>"
      ]
     },
     "metadata": {},
     "output_type": "display_data"
    }
   ],
   "source": [
    "# seaborn allows hue mapping based on an attribute\n",
    "# in this case the tree species\n",
    "sns.relplot(data=Ulmus, x='DBH', y='TreeHeight',hue='Genus_spec')"
   ]
  },
  {
   "cell_type": "markdown",
   "id": "6a54529f-a9fc-4087-9f05-2d9d75483433",
   "metadata": {},
   "source": [
    "#### Graph 3\n",
    "Boxplot of DBH for just Ulmus genus differentiated by species"
   ]
  },
  {
   "cell_type": "code",
   "execution_count": 34,
   "id": "3c913bcb-d4dd-4225-8979-fc2bb4741126",
   "metadata": {},
   "outputs": [
    {
     "data": {
      "image/png": "[encoded data removed]",
      "text/plain": [
       "<Figure size 2000x1000 with 1 Axes>"
      ]
     },
     "metadata": {},
     "output_type": "display_data"
    }
   ],
   "source": [
    "plt.figure(figsize=(20, 10))\n",
    "sns.boxplot(data=Ulmus, x='Genus_spec', y='DBH')\n",
    "plt.title('Box plot of DBH of tree species within the Ulmus genus')\n",
    "plt.show()"
   ]
  },
  {
   "cell_type": "markdown",
   "id": "091b3cd9-f798-42f2-9d91-e9c16ac137c2",
   "metadata": {},
   "source": [
    "#### Graph 4 \n",
    "Combination of graphs 1 and 3"
   ]
  },
  {
   "cell_type": "code",
   "execution_count": 45,
   "id": "e1491372-b35b-489a-b6a1-3d9769739c5b",
   "metadata": {},
   "outputs": [
    {
     "ename": "TypeError",
     "evalue": "'AxesSubplot' object is not subscriptable",
     "output_type": "error",
     "traceback": [
      "\u001b[1;31m---------------------------------------------------------------------------\u001b[0m",
      "\u001b[1;31mTypeError\u001b[0m                                 Traceback (most recent call last)",
      "Cell \u001b[1;32mIn[45], line 3\u001b[0m\n\u001b[0;32m      1\u001b[0m plt\u001b[38;5;241m.\u001b[39mrcParams[\u001b[38;5;124m'\u001b[39m\u001b[38;5;124mfigure.figsize\u001b[39m\u001b[38;5;124m'\u001b[39m] \u001b[38;5;241m=\u001b[39m [\u001b[38;5;241m20\u001b[39m, \u001b[38;5;241m12\u001b[39m]\n\u001b[0;32m      2\u001b[0m fig1, axs \u001b[38;5;241m=\u001b[39m plt\u001b[38;5;241m.\u001b[39msubplots(\u001b[38;5;241m1\u001b[39m,\u001b[38;5;241m1\u001b[39m)\n\u001b[1;32m----> 3\u001b[0m \u001b[43maxs\u001b[49m\u001b[43m[\u001b[49m\u001b[38;5;241;43m1\u001b[39;49m\u001b[43m,\u001b[49m\u001b[38;5;241;43m0\u001b[39;49m\u001b[43m]\u001b[49m\u001b[38;5;241m.\u001b[39mrelplot(data\u001b[38;5;241m=\u001b[39mUlmus, x\u001b[38;5;241m=\u001b[39m\u001b[38;5;124m'\u001b[39m\u001b[38;5;124mDBH\u001b[39m\u001b[38;5;124m'\u001b[39m, y\u001b[38;5;241m=\u001b[39m\u001b[38;5;124m'\u001b[39m\u001b[38;5;124mTreeHeight\u001b[39m\u001b[38;5;124m'\u001b[39m,hue\u001b[38;5;241m=\u001b[39m\u001b[38;5;124m'\u001b[39m\u001b[38;5;124mGenus_spec\u001b[39m\u001b[38;5;124m'\u001b[39m)\n\u001b[0;32m      4\u001b[0m axs[\u001b[38;5;241m0\u001b[39m,\u001b[38;5;241m1\u001b[39m]\u001b[38;5;241m.\u001b[39mboxplot(data\u001b[38;5;241m=\u001b[39mUlmus, x\u001b[38;5;241m=\u001b[39m\u001b[38;5;124m'\u001b[39m\u001b[38;5;124mGenus_spec\u001b[39m\u001b[38;5;124m'\u001b[39m, y\u001b[38;5;241m=\u001b[39m\u001b[38;5;124m'\u001b[39m\u001b[38;5;124mDBH\u001b[39m\u001b[38;5;124m'\u001b[39m)\n",
      "\u001b[1;31mTypeError\u001b[0m: 'AxesSubplot' object is not subscriptable"
     ]
    },
    {
     "data": {
      "image/png": "[encoded data removed]",
      "text/plain": [
       "<Figure size 2000x1200 with 1 Axes>"
      ]
     },
     "metadata": {},
     "output_type": "display_data"
    }
   ],
   "source": [
    "plt.rcParams['figure.figsize'] = [20, 12]\n",
    "fig1, axs = plt.subplots(1,1)\n",
    "axs[1,0].relplot(data=Ulmus, x='DBH', y='TreeHeight',hue='Genus_spec')\n",
    "axs[0,1].boxplot(data=Ulmus, x='Genus_spec', y='DBH')"
   ]
  }
 ],
 "metadata": {
  "kernelspec": {
   "display_name": "Python 3 (ipykernel)",
   "language": "python",
   "name": "python3"
  },
  "language_info": {
   "codemirror_mode": {
    "name": "ipython",
    "version": 3
   },
   "file_extension": ".py",
   "mimetype": "text/x-python",
   "name": "python",
   "nbconvert_exporter": "python",
   "pygments_lexer": "ipython3",
   "version": "3.10.9"
  }
 },
 "nbformat": 4,
 "nbformat_minor": 5
}
