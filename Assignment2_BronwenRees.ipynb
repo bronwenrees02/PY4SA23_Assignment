{
 "cells": [
  {
   "cell_type": "markdown",
   "id": "c491416d-6dca-43d6-a660-5461471ebf38",
   "metadata": {},
   "source": [
    "# Lab Assignment 2 - Bronwen Rees\n",
    "## 200011560\n",
    "Repository URL: https://github.com/bronwenrees02/PY4SA23_Assignment.git"
   ]
  },
  {
   "cell_type": "markdown",
   "id": "21f31e2b-0529-4f7b-9476-a5423327f6f9",
   "metadata": {},
   "source": [
    "### Python Basics\n",
    "#### Task 1\n",
    "Creating an **if...else** statement that will test whether a number is divisible by 3"
   ]
  },
  {
   "cell_type": "code",
   "execution_count": 19,
   "id": "75b7f7c1-e053-4b35-9fa1-fecb99ed4380",
   "metadata": {},
   "outputs": [
    {
     "name": "stdin",
     "output_type": "stream",
     "text": [
      "What is your number? 4\n"
     ]
    },
    {
     "name": "stdout",
     "output_type": "stream",
     "text": [
      "Your number isn't divisible by 3\n"
     ]
    }
   ],
   "source": [
    "number = int(input('What is your number?')) # this asks for a number input\n",
    "if (number % 3) == 0: # the % is the remainder function\n",
    "    print(\"Your number is divisible by 3\") # this will print if remainder when divided by 3 is 0\n",
    "else:\n",
    "    print(\"Your number isn't divisible by 3\")"
   ]
  },
  {
   "cell_type": "markdown",
   "id": "18648db8-c1e9-487a-a557-8c8e2bfa88cf",
   "metadata": {},
   "source": [
    "#### Task 2\n",
    "Creating an **if...else** statement that will test whether a type of fruit, represented as a text string, is in a list of acceptable fruits"
   ]
  },
  {
   "cell_type": "code",
   "execution_count": 26,
   "id": "588eda45-19b5-4034-a864-efd7ccb63bd8",
   "metadata": {},
   "outputs": [
    {
     "name": "stdin",
     "output_type": "stream",
     "text": [
      "What is your chosen fruit? apple\n"
     ]
    },
    {
     "name": "stdout",
     "output_type": "stream",
     "text": [
      "Sorry, your fruit is not found in the list of acceptable fruits\n"
     ]
    }
   ],
   "source": [
    "my_fruit = str(input('What is your chosen fruit?')) #asks for a text tring input\n",
    "acceptable_fruits = [\"cherry\", \"nectarine\", \"kiwi\", \"mango\", \"passionfruit\", \"raspberry\"]\n",
    "# square brackets define the list\n",
    "if my_fruit in acceptable_fruits: #this searches for input in pre-defined list\n",
    "   print(\"Your fruit is acceptable\")\n",
    "else:\n",
    "    print(\"Sorry, your fruit is not found in the list of acceptable fruits\")"
   ]
  },
  {
   "cell_type": "markdown",
   "id": "bd1e48fd-e92c-402c-9303-651b256def82",
   "metadata": {},
   "source": [
    "#### Task 3\n",
    "Creating a **function** to calculate the distance between two coordinates using the haversine formula"
   ]
  },
  {
   "cell_type": "code",
   "execution_count": 32,
   "id": "4f5d3c42-94c6-4823-8d30-6ef5be23e07c",
   "metadata": {},
   "outputs": [
    {
     "name": "stdout",
     "output_type": "stream",
     "text": [
      "Result:  112.26585883383926\n",
      "Should be:  112.23 km\n"
     ]
    }
   ],
   "source": [
    "# creating a code that takes latitude and longitude as inputs and carries out the haversine equation\n",
    "from math import sin, cos, sqrt, atan2, radians\n",
    "\n",
    "# Approximate radius of earth in km\n",
    "# chnage comments\n",
    "# add own coordinates\n",
    "# change \"Should be: print result\"\n",
    "R = 6373.0\n",
    "\n",
    "lat1 = radians(52.221310) # this input gives the latitude and longitude of two points\n",
    "lon1 = radians(0.965240)\n",
    "lat2 = radians(51.456711)\n",
    "lon2 = radians(-0.101160)\n",
    "\n",
    "dlon = lon2 - lon1 #calculates difference in the two longitudes\n",
    "dlat = lat2 - lat1 #calculates difference in the two latitudes\n",
    "\n",
    "a = sin(dlat / 2)**2 + cos(lat1) * cos(lat2) * sin(dlon / 2)**2 #\n",
    "c = 2 * atan2(sqrt(a), sqrt(1 - a))\n",
    "\n",
    "distance = R * c\n",
    "\n",
    "print(\"Result: \", distance)\n",
    "print(\"Should be: \", 112.23, \"km\") #check and chnage this before running each time"
   ]
  },
  {
   "cell_type": "markdown",
   "id": "83a6fde6-0a8d-4401-9836-53f078a7d6ff",
   "metadata": {},
   "source": [
    "### Pandas and NumPy\n",
    "#### Using the portland_park_trees.csv"
   ]
  },
  {
   "cell_type": "code",
   "execution_count": 32,
   "id": "7b3548cd-46a6-4bea-bb48-82d623b790ca",
   "metadata": {},
   "outputs": [
    {
     "data": {
      "text/html": [
       "<div>\n",
       "<style scoped>\n",
       "    .dataframe tbody tr th:only-of-type {\n",
       "        vertical-align: middle;\n",
       "    }\n",
       "\n",
       "    .dataframe tbody tr th {\n",
       "        vertical-align: top;\n",
       "    }\n",
       "\n",
       "    .dataframe thead th {\n",
       "        text-align: right;\n",
       "    }\n",
       "</style>\n",
       "<table border=\"1\" class=\"dataframe\">\n",
       "  <thead>\n",
       "    <tr style=\"text-align: right;\">\n",
       "      <th></th>\n",
       "      <th>fid</th>\n",
       "      <th>OBJECTID</th>\n",
       "      <th>Inventory_</th>\n",
       "      <th>Species</th>\n",
       "      <th>DBH</th>\n",
       "      <th>Condition</th>\n",
       "      <th>TreeHeight</th>\n",
       "      <th>CrownWidth</th>\n",
       "      <th>CrownWid_1</th>\n",
       "      <th>CollectedB</th>\n",
       "      <th>...</th>\n",
       "      <th>Genus</th>\n",
       "      <th>Common_nam</th>\n",
       "      <th>Genus_spec</th>\n",
       "      <th>Functional</th>\n",
       "      <th>Size</th>\n",
       "      <th>Native</th>\n",
       "      <th>Edible</th>\n",
       "      <th>Nuisance</th>\n",
       "      <th>Origin</th>\n",
       "      <th>Species_fa</th>\n",
       "    </tr>\n",
       "  </thead>\n",
       "  <tbody>\n",
       "    <tr>\n",
       "      <th>0</th>\n",
       "      <td>1</td>\n",
       "      <td>426</td>\n",
       "      <td>2017/05/09</td>\n",
       "      <td>PSME</td>\n",
       "      <td>37.4</td>\n",
       "      <td>Fair</td>\n",
       "      <td>105.0</td>\n",
       "      <td>44.0</td>\n",
       "      <td>57.0</td>\n",
       "      <td>staff</td>\n",
       "      <td>...</td>\n",
       "      <td>Pseudotsuga</td>\n",
       "      <td>Douglas-fir</td>\n",
       "      <td>Pseudotsuga menziesii</td>\n",
       "      <td>CE</td>\n",
       "      <td>L</td>\n",
       "      <td>Yes</td>\n",
       "      <td>NaN</td>\n",
       "      <td>NaN</td>\n",
       "      <td>North America - from British Columbia south to...</td>\n",
       "      <td>Bracts on cones look like a mouse's feet and t...</td>\n",
       "    </tr>\n",
       "    <tr>\n",
       "      <th>1</th>\n",
       "      <td>2</td>\n",
       "      <td>427</td>\n",
       "      <td>2017/05/09</td>\n",
       "      <td>PSME</td>\n",
       "      <td>32.5</td>\n",
       "      <td>Fair</td>\n",
       "      <td>94.0</td>\n",
       "      <td>49.0</td>\n",
       "      <td>45.0</td>\n",
       "      <td>staff</td>\n",
       "      <td>...</td>\n",
       "      <td>Pseudotsuga</td>\n",
       "      <td>Douglas-fir</td>\n",
       "      <td>Pseudotsuga menziesii</td>\n",
       "      <td>CE</td>\n",
       "      <td>L</td>\n",
       "      <td>Yes</td>\n",
       "      <td>NaN</td>\n",
       "      <td>NaN</td>\n",
       "      <td>North America - from British Columbia south to...</td>\n",
       "      <td>Bracts on cones look like a mouse's feet and t...</td>\n",
       "    </tr>\n",
       "    <tr>\n",
       "      <th>2</th>\n",
       "      <td>3</td>\n",
       "      <td>428</td>\n",
       "      <td>2017/05/09</td>\n",
       "      <td>CRLA</td>\n",
       "      <td>9.7</td>\n",
       "      <td>Fair</td>\n",
       "      <td>23.0</td>\n",
       "      <td>28.0</td>\n",
       "      <td>27.0</td>\n",
       "      <td>staff</td>\n",
       "      <td>...</td>\n",
       "      <td>Crataegus</td>\n",
       "      <td>Lavalle hawthorn</td>\n",
       "      <td>Crataegus x lavalleei</td>\n",
       "      <td>BD</td>\n",
       "      <td>S</td>\n",
       "      <td>No</td>\n",
       "      <td>NaN</td>\n",
       "      <td>NaN</td>\n",
       "      <td>North America - a hybrid between a Mexican and...</td>\n",
       "      <td>Like most hawthorns, the tree has stout thorns...</td>\n",
       "    </tr>\n",
       "    <tr>\n",
       "      <th>3</th>\n",
       "      <td>4</td>\n",
       "      <td>429</td>\n",
       "      <td>2017/05/09</td>\n",
       "      <td>QURU</td>\n",
       "      <td>10.3</td>\n",
       "      <td>Poor</td>\n",
       "      <td>28.0</td>\n",
       "      <td>38.0</td>\n",
       "      <td>31.0</td>\n",
       "      <td>staff</td>\n",
       "      <td>...</td>\n",
       "      <td>Quercus</td>\n",
       "      <td>northern red oak</td>\n",
       "      <td>Quercus rubra</td>\n",
       "      <td>BD</td>\n",
       "      <td>L</td>\n",
       "      <td>No</td>\n",
       "      <td>NaN</td>\n",
       "      <td>NaN</td>\n",
       "      <td>North America - eastern Canada and eastern USA...</td>\n",
       "      <td>Acorns take two years to mature and are an imp...</td>\n",
       "    </tr>\n",
       "    <tr>\n",
       "      <th>4</th>\n",
       "      <td>5</td>\n",
       "      <td>430</td>\n",
       "      <td>2017/05/09</td>\n",
       "      <td>PSME</td>\n",
       "      <td>33.2</td>\n",
       "      <td>Fair</td>\n",
       "      <td>102.0</td>\n",
       "      <td>43.0</td>\n",
       "      <td>44.0</td>\n",
       "      <td>staff</td>\n",
       "      <td>...</td>\n",
       "      <td>Pseudotsuga</td>\n",
       "      <td>Douglas-fir</td>\n",
       "      <td>Pseudotsuga menziesii</td>\n",
       "      <td>CE</td>\n",
       "      <td>L</td>\n",
       "      <td>Yes</td>\n",
       "      <td>NaN</td>\n",
       "      <td>NaN</td>\n",
       "      <td>North America - from British Columbia south to...</td>\n",
       "      <td>Bracts on cones look like a mouse's feet and t...</td>\n",
       "    </tr>\n",
       "    <tr>\n",
       "      <th>...</th>\n",
       "      <td>...</td>\n",
       "      <td>...</td>\n",
       "      <td>...</td>\n",
       "      <td>...</td>\n",
       "      <td>...</td>\n",
       "      <td>...</td>\n",
       "      <td>...</td>\n",
       "      <td>...</td>\n",
       "      <td>...</td>\n",
       "      <td>...</td>\n",
       "      <td>...</td>\n",
       "      <td>...</td>\n",
       "      <td>...</td>\n",
       "      <td>...</td>\n",
       "      <td>...</td>\n",
       "      <td>...</td>\n",
       "      <td>...</td>\n",
       "      <td>...</td>\n",
       "      <td>...</td>\n",
       "      <td>...</td>\n",
       "      <td>...</td>\n",
       "    </tr>\n",
       "    <tr>\n",
       "      <th>25529</th>\n",
       "      <td>25530</td>\n",
       "      <td>726046</td>\n",
       "      <td>2018/08/16</td>\n",
       "      <td>QURU</td>\n",
       "      <td>31.6</td>\n",
       "      <td>Fair</td>\n",
       "      <td>74.0</td>\n",
       "      <td>50.0</td>\n",
       "      <td>46.0</td>\n",
       "      <td>volunteer</td>\n",
       "      <td>...</td>\n",
       "      <td>Quercus</td>\n",
       "      <td>northern red oak</td>\n",
       "      <td>Quercus rubra</td>\n",
       "      <td>BD</td>\n",
       "      <td>L</td>\n",
       "      <td>No</td>\n",
       "      <td>NaN</td>\n",
       "      <td>NaN</td>\n",
       "      <td>North America - eastern Canada and eastern USA...</td>\n",
       "      <td>Acorns take two years to mature and are an imp...</td>\n",
       "    </tr>\n",
       "    <tr>\n",
       "      <th>25530</th>\n",
       "      <td>25531</td>\n",
       "      <td>726443</td>\n",
       "      <td>2019/10/11</td>\n",
       "      <td>PSME</td>\n",
       "      <td>0.4</td>\n",
       "      <td>Good</td>\n",
       "      <td>8.0</td>\n",
       "      <td>6.0</td>\n",
       "      <td>6.0</td>\n",
       "      <td>staff</td>\n",
       "      <td>...</td>\n",
       "      <td>Pseudotsuga</td>\n",
       "      <td>Douglas-fir</td>\n",
       "      <td>Pseudotsuga menziesii</td>\n",
       "      <td>CE</td>\n",
       "      <td>L</td>\n",
       "      <td>Yes</td>\n",
       "      <td>NaN</td>\n",
       "      <td>NaN</td>\n",
       "      <td>North America - from British Columbia south to...</td>\n",
       "      <td>Bracts on cones look like a mouse's feet and t...</td>\n",
       "    </tr>\n",
       "    <tr>\n",
       "      <th>25531</th>\n",
       "      <td>25532</td>\n",
       "      <td>726444</td>\n",
       "      <td>2019/10/11</td>\n",
       "      <td>MEGL</td>\n",
       "      <td>26.3</td>\n",
       "      <td>Fair</td>\n",
       "      <td>79.0</td>\n",
       "      <td>30.0</td>\n",
       "      <td>40.0</td>\n",
       "      <td>staff</td>\n",
       "      <td>...</td>\n",
       "      <td>Metasequoia</td>\n",
       "      <td>dawn redwood</td>\n",
       "      <td>Metasequoia glyptostroboides</td>\n",
       "      <td>CD</td>\n",
       "      <td>L</td>\n",
       "      <td>No</td>\n",
       "      <td>NaN</td>\n",
       "      <td>NaN</td>\n",
       "      <td>Asia - central China</td>\n",
       "      <td>A deciduous conifer, dawn redwood is Oregon's ...</td>\n",
       "    </tr>\n",
       "    <tr>\n",
       "      <th>25532</th>\n",
       "      <td>25533</td>\n",
       "      <td>726445</td>\n",
       "      <td>2019/10/11</td>\n",
       "      <td>PCSI</td>\n",
       "      <td>8.8</td>\n",
       "      <td>Fair</td>\n",
       "      <td>43.0</td>\n",
       "      <td>20.0</td>\n",
       "      <td>20.0</td>\n",
       "      <td>staff</td>\n",
       "      <td>...</td>\n",
       "      <td>Picea</td>\n",
       "      <td>Sitka spruce</td>\n",
       "      <td>Picea sitchensis</td>\n",
       "      <td>CE</td>\n",
       "      <td>L</td>\n",
       "      <td>Yes</td>\n",
       "      <td>NaN</td>\n",
       "      <td>NaN</td>\n",
       "      <td>North America - Alaska south to British Columb...</td>\n",
       "      <td>Green, 1\" long, typically flat needles are the...</td>\n",
       "    </tr>\n",
       "    <tr>\n",
       "      <th>25533</th>\n",
       "      <td>25534</td>\n",
       "      <td>726446</td>\n",
       "      <td>2019/10/11</td>\n",
       "      <td>COKO</td>\n",
       "      <td>2.0</td>\n",
       "      <td>Good</td>\n",
       "      <td>18.0</td>\n",
       "      <td>13.0</td>\n",
       "      <td>13.0</td>\n",
       "      <td>staff</td>\n",
       "      <td>...</td>\n",
       "      <td>Cornus</td>\n",
       "      <td>kousa dogwood</td>\n",
       "      <td>Cornus kousa</td>\n",
       "      <td>BD</td>\n",
       "      <td>S</td>\n",
       "      <td>No</td>\n",
       "      <td>NaN</td>\n",
       "      <td>NaN</td>\n",
       "      <td>Asia - Japan, Korea</td>\n",
       "      <td>A 20-30' tree with showy white flower bracts t...</td>\n",
       "    </tr>\n",
       "  </tbody>\n",
       "</table>\n",
       "<p>25534 rows × 40 columns</p>\n",
       "</div>"
      ],
      "text/plain": [
       "         fid  OBJECTID  Inventory_ Species   DBH Condition  TreeHeight  \\\n",
       "0          1       426  2017/05/09    PSME  37.4      Fair       105.0   \n",
       "1          2       427  2017/05/09    PSME  32.5      Fair        94.0   \n",
       "2          3       428  2017/05/09    CRLA   9.7      Fair        23.0   \n",
       "3          4       429  2017/05/09    QURU  10.3      Poor        28.0   \n",
       "4          5       430  2017/05/09    PSME  33.2      Fair       102.0   \n",
       "...      ...       ...         ...     ...   ...       ...         ...   \n",
       "25529  25530    726046  2018/08/16    QURU  31.6      Fair        74.0   \n",
       "25530  25531    726443  2019/10/11    PSME   0.4      Good         8.0   \n",
       "25531  25532    726444  2019/10/11    MEGL  26.3      Fair        79.0   \n",
       "25532  25533    726445  2019/10/11    PCSI   8.8      Fair        43.0   \n",
       "25533  25534    726446  2019/10/11    COKO   2.0      Good        18.0   \n",
       "\n",
       "       CrownWidth  CrownWid_1 CollectedB  ...        Genus        Common_nam  \\\n",
       "0            44.0        57.0      staff  ...  Pseudotsuga       Douglas-fir   \n",
       "1            49.0        45.0      staff  ...  Pseudotsuga       Douglas-fir   \n",
       "2            28.0        27.0      staff  ...    Crataegus  Lavalle hawthorn   \n",
       "3            38.0        31.0      staff  ...      Quercus  northern red oak   \n",
       "4            43.0        44.0      staff  ...  Pseudotsuga       Douglas-fir   \n",
       "...           ...         ...        ...  ...          ...               ...   \n",
       "25529        50.0        46.0  volunteer  ...      Quercus  northern red oak   \n",
       "25530         6.0         6.0      staff  ...  Pseudotsuga       Douglas-fir   \n",
       "25531        30.0        40.0      staff  ...  Metasequoia      dawn redwood   \n",
       "25532        20.0        20.0      staff  ...        Picea      Sitka spruce   \n",
       "25533        13.0        13.0      staff  ...       Cornus     kousa dogwood   \n",
       "\n",
       "                         Genus_spec Functional Size Native Edible Nuisance  \\\n",
       "0             Pseudotsuga menziesii         CE    L    Yes    NaN      NaN   \n",
       "1             Pseudotsuga menziesii         CE    L    Yes    NaN      NaN   \n",
       "2             Crataegus x lavalleei         BD    S     No    NaN      NaN   \n",
       "3                     Quercus rubra         BD    L     No    NaN      NaN   \n",
       "4             Pseudotsuga menziesii         CE    L    Yes    NaN      NaN   \n",
       "...                             ...        ...  ...    ...    ...      ...   \n",
       "25529                 Quercus rubra         BD    L     No    NaN      NaN   \n",
       "25530         Pseudotsuga menziesii         CE    L    Yes    NaN      NaN   \n",
       "25531  Metasequoia glyptostroboides         CD    L     No    NaN      NaN   \n",
       "25532              Picea sitchensis         CE    L    Yes    NaN      NaN   \n",
       "25533                  Cornus kousa         BD    S     No    NaN      NaN   \n",
       "\n",
       "                                                  Origin  \\\n",
       "0      North America - from British Columbia south to...   \n",
       "1      North America - from British Columbia south to...   \n",
       "2      North America - a hybrid between a Mexican and...   \n",
       "3      North America - eastern Canada and eastern USA...   \n",
       "4      North America - from British Columbia south to...   \n",
       "...                                                  ...   \n",
       "25529  North America - eastern Canada and eastern USA...   \n",
       "25530  North America - from British Columbia south to...   \n",
       "25531                               Asia - central China   \n",
       "25532  North America - Alaska south to British Columb...   \n",
       "25533                                Asia - Japan, Korea   \n",
       "\n",
       "                                              Species_fa  \n",
       "0      Bracts on cones look like a mouse's feet and t...  \n",
       "1      Bracts on cones look like a mouse's feet and t...  \n",
       "2      Like most hawthorns, the tree has stout thorns...  \n",
       "3      Acorns take two years to mature and are an imp...  \n",
       "4      Bracts on cones look like a mouse's feet and t...  \n",
       "...                                                  ...  \n",
       "25529  Acorns take two years to mature and are an imp...  \n",
       "25530  Bracts on cones look like a mouse's feet and t...  \n",
       "25531  A deciduous conifer, dawn redwood is Oregon's ...  \n",
       "25532  Green, 1\" long, typically flat needles are the...  \n",
       "25533  A 20-30' tree with showy white flower bracts t...  \n",
       "\n",
       "[25534 rows x 40 columns]"
      ]
     },
     "execution_count": 32,
     "metadata": {},
     "output_type": "execute_result"
    }
   ],
   "source": [
    "# First import pandas and numpy\n",
    "import pandas as pd\n",
    "import numpy as np\n",
    "# now import the csv file\n",
    "portland_tree_data = pd.read_csv(\"Assignment 2 Data/portland_park_trees.csv\")\n",
    "portland_tree_data"
   ]
  },
  {
   "cell_type": "markdown",
   "id": "6a3d5755-e7dd-4a48-a829-2dc73e6883fc",
   "metadata": {},
   "source": [
    "#### Q1\n",
    "How many trees are of the Quercus or Acer genus?"
   ]
  },
  {
   "cell_type": "code",
   "execution_count": 33,
   "id": "89768b6d-a97e-4554-a5b1-216a9029088f",
   "metadata": {},
   "outputs": [
    {
     "name": "stdout",
     "output_type": "stream",
     "text": [
      "(5675, 40)\n"
     ]
    }
   ],
   "source": [
    "Genus = portland_tree_data.query('Genus==\"Quercus\" or Genus==\"Acer\"')\n",
    "print(Genus.shape)\n",
    "# the first number in the printed result is the answer"
   ]
  },
  {
   "cell_type": "markdown",
   "id": "c9b93d5d-3568-486f-ac22-e057952f1bff",
   "metadata": {},
   "source": [
    "#### Q2\n",
    "How many trees are of the Quercus or Acer genus and have a DBH larger than 50 inches?"
   ]
  },
  {
   "cell_type": "code",
   "execution_count": 34,
   "id": "548fa9aa-56c9-4099-b2bd-0d31ac87da5b",
   "metadata": {},
   "outputs": [
    {
     "name": "stdout",
     "output_type": "stream",
     "text": [
      "(124, 40)\n"
     ]
    }
   ],
   "source": [
    "Genus_dbh50 = Genus.query('DBH > 50')\n",
    "print(Genus_dbh50.shape)"
   ]
  },
  {
   "cell_type": "markdown",
   "id": "3166eeba-5757-4d60-836d-e67cd1eca4df",
   "metadata": {},
   "source": [
    "#### Q3\n",
    "Which genus has the highest mean DBH of the following genera: Quercus, Acer, or Fraxinus?"
   ]
  },
  {
   "cell_type": "code",
   "execution_count": 42,
   "id": "485d0b68-a526-496e-8a1f-8f5e77fbd71c",
   "metadata": {},
   "outputs": [
    {
     "data": {
      "text/plain": [
       "23.56823839157492"
      ]
     },
     "execution_count": 42,
     "metadata": {},
     "output_type": "execute_result"
    }
   ],
   "source": [
    "Quercus = portland_tree_data[portland_tree_data[\"Genus\"]==\"Quercus\"]\n",
    "Acer = portland_tree_data[portland_tree_data[\"Genus\"]==\"Acer\"]\n",
    "Fraxinus = portland_tree_data[portland_tree_data[\"Genus\"]==\"Fraxinus\"]\n",
    "# this creates subsets of data of only the specified Genus"
   ]
  },
  {
   "cell_type": "code",
   "execution_count": 45,
   "id": "0c60d2d0-7473-41d1-bc9d-17ac42e14b3c",
   "metadata": {},
   "outputs": [
    {
     "data": {
      "text/plain": [
       "23.56823839157492"
      ]
     },
     "execution_count": 45,
     "metadata": {},
     "output_type": "execute_result"
    }
   ],
   "source": [
    "# i will now calcul\n",
    "Quercus[\"DBH\"].mean()"
   ]
  },
  {
   "cell_type": "code",
   "execution_count": 43,
   "id": "07e5b283-2ff6-4591-8bd0-a81721239264",
   "metadata": {},
   "outputs": [
    {
     "data": {
      "text/plain": [
       "18.419085331846066"
      ]
     },
     "execution_count": 43,
     "metadata": {},
     "output_type": "execute_result"
    }
   ],
   "source": [
    "Acer[\"DBH\"].mean()"
   ]
  },
  {
   "cell_type": "code",
   "execution_count": 44,
   "id": "f8cde95b-0cb7-47a3-9055-91d9d51e6131",
   "metadata": {},
   "outputs": [
    {
     "data": {
      "text/plain": [
       "11.033609693877551"
      ]
     },
     "execution_count": 44,
     "metadata": {},
     "output_type": "execute_result"
    }
   ],
   "source": [
    "Fraxinus[\"DBH\"].mean()"
   ]
  },
  {
   "cell_type": "markdown",
   "id": "44fa9a4e-d354-4caf-9291-eb0910f35933",
   "metadata": {},
   "source": [
    "#### Using the world_cities.csv\n",
    "#### Q5\n"
   ]
  },
  {
   "cell_type": "markdown",
   "id": "79da2cfa-934b-4870-97d3-8e99110584f5",
   "metadata": {},
   "source": [
    "### Python data visualisation\n",
    "#### Using portland_park_trees.csv\n",
    "#### Graph 1\n",
    "Scatterplot of trees in Ulmus genus"
   ]
  },
  {
   "cell_type": "markdown",
   "id": "9201a024-33a9-4af4-a9e1-a631c0977230",
   "metadata": {},
   "source": [
    "#### Graph 2\n",
    "Scatterplot of trees in Ulmus genus, which tree species mapped to hue"
   ]
  },
  {
   "cell_type": "markdown",
   "id": "6a54529f-a9fc-4087-9f05-2d9d75483433",
   "metadata": {},
   "source": [
    "#### Graph 3\n",
    "Boxplot of DBH for just Ulmus genus differentiated by species"
   ]
  },
  {
   "cell_type": "markdown",
   "id": "091b3cd9-f798-42f2-9d91-e9c16ac137c2",
   "metadata": {},
   "source": [
    "#### Graph 4 \n",
    "Combination of graphs 1 and 3"
   ]
  }
 ],
 "metadata": {
  "kernelspec": {
   "display_name": "Python 3 (ipykernel)",
   "language": "python",
   "name": "python3"
  },
  "language_info": {
   "codemirror_mode": {
    "name": "ipython",
    "version": 3
   },
   "file_extension": ".py",
   "mimetype": "text/x-python",
   "name": "python",
   "nbconvert_exporter": "python",
   "pygments_lexer": "ipython3",
   "version": "3.10.9"
  }
 },
 "nbformat": 4,
 "nbformat_minor": 5
}
