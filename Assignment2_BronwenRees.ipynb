{
 "cells": [
  {
   "cell_type": "markdown",
   "id": "c491416d-6dca-43d6-a660-5461471ebf38",
   "metadata": {},
   "source": [
    "# Lab Assignment 2 - Bronwen Rees\n",
    "## 200011560\n",
    "Repository URL: https://github.com/bronwenrees02/PY4SA23_Assignment.git"
   ]
  }
 ],
 "metadata": {
  "kernelspec": {
   "display_name": "Python 3 (ipykernel)",
   "language": "python",
   "name": "python3"
  },
  "language_info": {
   "codemirror_mode": {
    "name": "ipython",
    "version": 3
   },
   "file_extension": ".py",
   "mimetype": "text/x-python",
   "name": "python",
   "nbconvert_exporter": "python",
   "pygments_lexer": "ipython3",
   "version": "3.10.9"
  }
 },
 "nbformat": 4,
 "nbformat_minor": 5
}
